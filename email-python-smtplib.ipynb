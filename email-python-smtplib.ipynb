{
 "cells": [
  {
   "cell_type": "code",
   "execution_count": 1,
   "id": "220cd601",
   "metadata": {},
   "outputs": [],
   "source": [
    "#Sending email\n",
    "import smtplib\n",
    "from email.message import EmailMessage\n",
    "import csv"
   ]
  },
  {
   "cell_type": "code",
   "execution_count": null,
   "id": "1c46cc6d",
   "metadata": {},
   "outputs": [],
   "source": [
    "#emailing the csv file:\n",
    "\n",
    "email_address = ''  #please imput sender's email address\n",
    "password = '' #please imput password. This pass you need to generate \n",
    "\n",
    "msg = EmailMessage()\n",
    "msg['Subject'] = ''\n",
    "msg['From'] = email_address\n",
    "msg['To'] = '' # recipient's email address \n",
    "msg.set_content('Please find the attached file')\n",
    "\n",
    "with open('', 'r') as f: #attaching the file, imput your attachement\n",
    "    file_data = f.read()\n",
    "    file_name = '' #the file name\n",
    "  \n",
    "    \n",
    "msg.add_attachment(file_data, filename = file_name)\n",
    "\n",
    "with smtplib.SMTP_SSL('smtp.gmail.com', 465) as smtp: #using gmail\n",
    "    smtp.login(email_address, password)\n",
    "\n",
    "    smtp.send_message(msg)"
   ]
  }
 ],
 "metadata": {
  "kernelspec": {
   "display_name": "Python 3.8.8",
   "language": "python",
   "name": "python3"
  },
  "language_info": {
   "codemirror_mode": {
    "name": "ipython",
    "version": 3
   },
   "file_extension": ".py",
   "mimetype": "text/x-python",
   "name": "python",
   "nbconvert_exporter": "python",
   "pygments_lexer": "ipython3",
   "version": "3.8.8 (default, Apr 13 2021, 15:08:03) [MSC v.1916 64 bit (AMD64)]"
  },
  "vscode": {
   "interpreter": {
    "hash": "4457bb44cb86e5a7dad923d2a3d72e5ef4a738aac9356080cd70fa10d2e705d0"
   }
  }
 },
 "nbformat": 4,
 "nbformat_minor": 5
}
